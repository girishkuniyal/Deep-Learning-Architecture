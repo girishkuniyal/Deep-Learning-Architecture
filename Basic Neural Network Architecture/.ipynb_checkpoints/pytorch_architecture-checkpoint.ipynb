{
 "cells": [
  {
   "cell_type": "code",
   "execution_count": 0,
   "metadata": {
    "colab": {},
    "colab_type": "code",
    "id": "MKfizVRMk3MP"
   },
   "outputs": [],
   "source": [
    "import torch\n",
    "import torchvision\n",
    "from torchvision import transforms\n",
    "from torch import nn\n",
    "\n",
    "import pandas as pd\n",
    "import numpy as np\n",
    "import matplotlib.pyplot as plt\n",
    "import seaborn as sns"
   ]
  },
  {
   "cell_type": "code",
   "execution_count": 0,
   "metadata": {
    "colab": {},
    "colab_type": "code",
    "id": "y5Wx1v1WZ2sr"
   },
   "outputs": [],
   "source": [
    "# Code for Reproducability\n",
    "torch.manual_seed(42)\n",
    "torch.backends.cudnn.deterministic = True\n",
    "torch.backends.cudnn.benchmark = False"
   ]
  },
  {
   "cell_type": "markdown",
   "metadata": {
    "colab_type": "text",
    "id": "Xu3U5YOylHIj"
   },
   "source": [
    "#Dataset Analysis"
   ]
  },
  {
   "cell_type": "code",
   "execution_count": 0,
   "metadata": {
    "colab": {},
    "colab_type": "code",
    "id": "JAcLkVNflOWA"
   },
   "outputs": [],
   "source": [
    "#60000 train images\n",
    "#10000 test images\n",
    "\n",
    "train_dataset = torchvision.datasets.MNIST(root = \"../data/mnist/\",train=True,\n",
    "                                          transform = transforms.ToTensor(),download=True)\n",
    "\n",
    "test_dataset = torchvision.datasets.MNIST(root = \"../data/mnist/\",train=False,\n",
    "                                         transform = transforms.ToTensor())\n",
    "\n"
   ]
  },
  {
   "cell_type": "code",
   "execution_count": 0,
   "metadata": {
    "colab": {},
    "colab_type": "code",
    "id": "-kx7GlGTNhcH"
   },
   "outputs": [],
   "source": [
    "train_loader = torch.utils.data.DataLoader(dataset = train_dataset,\n",
    "                                          batch_size = 64,\n",
    "                                          shuffle = True)\n",
    "\n",
    "test_loader = torch.utils.data.DataLoader(dataset = test_dataset,\n",
    "                                          batch_size = 64,\n",
    "                                          shuffle = False)"
   ]
  },
  {
   "cell_type": "code",
   "execution_count": 5,
   "metadata": {
    "colab": {
     "base_uri": "https://localhost:8080/",
     "height": 348
    },
    "colab_type": "code",
    "id": "9A-OxREDmGXA",
    "outputId": "3f92150a-7b84-4468-832e-adfd2abfa4bc"
   },
   "outputs": [
    {
     "data": {
      "image/png": "[encoded data removed]",
      "text/plain": [
       "<Figure size 576x396 with 1 Axes>"
      ]
     },
     "metadata": {
      "tags": []
     },
     "output_type": "display_data"
    }
   ],
   "source": [
    "plt.rcParams[\"patch.force_edgecolor\"] = True\n",
    "plt.hist(train_dataset.targets.numpy(),label=\"Train distribution\")\n",
    "plt.hist(test_dataset.targets.numpy(),label=\"Test distribution\")\n",
    "plt.legend();\n"
   ]
  },
  {
   "cell_type": "code",
   "execution_count": 6,
   "metadata": {
    "colab": {
     "base_uri": "https://localhost:8080/",
     "height": 338
    },
    "colab_type": "code",
    "id": "87Xa5-qZmod3",
    "outputId": "a8f29191-eb88-4802-ce11-5b8c317bb0e2"
   },
   "outputs": [
    {
     "data": {
      "image/png": "[encoded data removed]",
      "text/plain": [
       "<Figure size 1296x360 with 12 Axes>"
      ]
     },
     "metadata": {
      "tags": []
     },
     "output_type": "display_data"
    }
   ],
   "source": [
    "fig,axarr = plt.subplots(2,6,figsize=(18,5))\n",
    "\n",
    "for i in range(12):\n",
    "  plt.subplot(2,6,i+1)\n",
    "  ax = plt.imshow(train_dataset.data[i],cmap=\"gray\")\n",
    "  plt.title(\"True Label {}\".format(train_dataset.targets[i]))\n",
    "  ax.axes.xaxis.set_visible(False)\n",
    "  ax.axes.yaxis.set_visible(False);\n",
    "  \n",
    "  "
   ]
  },
  {
   "cell_type": "markdown",
   "metadata": {
    "colab_type": "text",
    "id": "yelcdoxUyzzt"
   },
   "source": [
    "# Simple FeedForward Neural Network\n",
    "Here we simple flatten all our images and pass through our fully connected Neural network\n",
    "![architecture image](resources/basic_nn.jpg)"
   ]
  },
  {
   "cell_type": "code",
   "execution_count": 0,
   "metadata": {
    "colab": {},
    "colab_type": "code",
    "id": "B_eTbvy-yoD1"
   },
   "outputs": [],
   "source": [
    "class NeuralNetwork(nn.Module):\n",
    "  def __init__(self):\n",
    "    super(NeuralNetwork,self).__init__()\n",
    "    self.fc1 = nn.Linear(784,512)\n",
    "    self.relu = nn.ReLU()\n",
    "    self.fc2 = nn.Linear(512,128)\n",
    "    self.fc3 = nn.Linear(128,10)\n",
    "    self.softmax = nn.Softmax()\n",
    "   \n",
    "  def forward(self,x):\n",
    "    out = self.fc1(x)\n",
    "    out = self.relu(out)\n",
    "    out = self.fc2(out)\n",
    "    out = self.relu(out)\n",
    "    out = self.fc3(out)\n",
    "    out = self.softmax(out)\n",
    "    return out\n",
    "    \n",
    "    \n",
    "  \n",
    "  "
   ]
  },
  {
   "cell_type": "code",
   "execution_count": 0,
   "metadata": {
    "colab": {},
    "colab_type": "code",
    "id": "K0agdyC_2z1u"
   },
   "outputs": [],
   "source": [
    "model = NeuralNetwork().to(\"cuda\") #for without GPU use \"cpu\""
   ]
  },
  {
   "cell_type": "code",
   "execution_count": 0,
   "metadata": {
    "colab": {},
    "colab_type": "code",
    "id": "1reykkDq26mQ"
   },
   "outputs": [],
   "source": [
    "criterion = nn.CrossEntropyLoss()\n",
    "optimizer = torch.optim.SGD(model.parameters(),lr=0.03,momentum=0.5)"
   ]
  },
  {
   "cell_type": "code",
   "execution_count": 10,
   "metadata": {
    "colab": {
     "base_uri": "https://localhost:8080/",
     "height": 121
    },
    "colab_type": "code",
    "id": "G_Vu8rZYK3GR",
    "outputId": "a3dc3e2c-198a-492f-d5de-f1df7be6a922"
   },
   "outputs": [
    {
     "name": "stdout",
     "output_type": "stream",
     "text": [
      "torch.Size([512, 784])\n",
      "torch.Size([512])\n",
      "torch.Size([128, 512])\n",
      "torch.Size([128])\n",
      "torch.Size([10, 128])\n",
      "torch.Size([10])\n"
     ]
    }
   ],
   "source": [
    "value = model.parameters() # Generator object\n",
    "\n",
    "print(value.__next__().shape) # weights layer1 :   512*784\n",
    "print(value.__next__().shape) # bias layer 1 :    512\n",
    "print(value.__next__().shape) # weights layer 2 :  128*512\n",
    "print(value.__next__().shape) # bias layer 2 :    128\n",
    "print(value.__next__().shape) # weights layer 3 :  10*128\n",
    "print(value.__next__().shape) # bias layer 3:     10\n",
    "\n",
    "\n",
    "\n"
   ]
  },
  {
   "cell_type": "code",
   "execution_count": 11,
   "metadata": {
    "colab": {
     "base_uri": "https://localhost:8080/",
     "height": 34
    },
    "colab_type": "code",
    "id": "9mdi1ylILC1t",
    "outputId": "357e8767-5f61-4c41-922c-73cd423dbbfd"
   },
   "outputs": [
    {
     "data": {
      "text/plain": [
       "938"
      ]
     },
     "execution_count": 11,
     "metadata": {
      "tags": []
     },
     "output_type": "execute_result"
    }
   ],
   "source": [
    "total_step = len(train_loader) #937.5\n",
    "total_step"
   ]
  },
  {
   "cell_type": "code",
   "execution_count": 12,
   "metadata": {
    "colab": {
     "base_uri": "https://localhost:8080/",
     "height": 3198
    },
    "colab_type": "code",
    "id": "rNF5zkW9OUOy",
    "outputId": "3a8d400b-6333-4eec-d76f-3ee4e5a4a33b"
   },
   "outputs": [
    {
     "name": "stderr",
     "output_type": "stream",
     "text": [
      "/usr/local/lib/python3.6/dist-packages/ipykernel_launcher.py:16: UserWarning: Implicit dimension choice for softmax has been deprecated. Change the call to include dim=X as an argument.\n",
      "  app.launch_new_instance()\n"
     ]
    },
    {
     "name": "stdout",
     "output_type": "stream",
     "text": [
      "Epoches 1/20 Steps 100/938 loss: 2.30031\n",
      "Epoches 1/20 Steps 200/938 loss: 2.29746\n",
      "Epoches 1/20 Steps 300/938 loss: 2.29199\n",
      "Epoches 1/20 Steps 400/938 loss: 2.28084\n",
      "Epoches 1/20 Steps 500/938 loss: 2.24396\n",
      "Epoches 1/20 Steps 600/938 loss: 2.17666\n",
      "Epoches 1/20 Steps 700/938 loss: 2.13435\n",
      "Epoches 1/20 Steps 800/938 loss: 1.99006\n",
      "Epoches 1/20 Steps 900/938 loss: 1.96435\n",
      "Epoches 2/20 Steps 100/938 loss: 1.74870\n",
      "Epoches 2/20 Steps 200/938 loss: 1.75070\n",
      "Epoches 2/20 Steps 300/938 loss: 1.84562\n",
      "Epoches 2/20 Steps 400/938 loss: 1.72505\n",
      "Epoches 2/20 Steps 500/938 loss: 1.62490\n",
      "Epoches 2/20 Steps 600/938 loss: 1.71405\n",
      "Epoches 2/20 Steps 700/938 loss: 1.70891\n",
      "Epoches 2/20 Steps 800/938 loss: 1.65773\n",
      "Epoches 2/20 Steps 900/938 loss: 1.68115\n",
      "Epoches 3/20 Steps 100/938 loss: 1.63239\n",
      "Epoches 3/20 Steps 200/938 loss: 1.59041\n",
      "Epoches 3/20 Steps 300/938 loss: 1.53719\n",
      "Epoches 3/20 Steps 400/938 loss: 1.68045\n",
      "Epoches 3/20 Steps 500/938 loss: 1.69825\n",
      "Epoches 3/20 Steps 600/938 loss: 1.59440\n",
      "Epoches 3/20 Steps 700/938 loss: 1.62334\n",
      "Epoches 3/20 Steps 800/938 loss: 1.56323\n",
      "Epoches 3/20 Steps 900/938 loss: 1.60077\n",
      "Epoches 4/20 Steps 100/938 loss: 1.71538\n",
      "Epoches 4/20 Steps 200/938 loss: 1.64566\n",
      "Epoches 4/20 Steps 300/938 loss: 1.66489\n",
      "Epoches 4/20 Steps 400/938 loss: 1.65538\n",
      "Epoches 4/20 Steps 500/938 loss: 1.59311\n",
      "Epoches 4/20 Steps 600/938 loss: 1.64330\n",
      "Epoches 4/20 Steps 700/938 loss: 1.68714\n",
      "Epoches 4/20 Steps 800/938 loss: 1.53277\n",
      "Epoches 4/20 Steps 900/938 loss: 1.62971\n",
      "Epoches 5/20 Steps 100/938 loss: 1.66113\n",
      "Epoches 5/20 Steps 200/938 loss: 1.55436\n",
      "Epoches 5/20 Steps 300/938 loss: 1.65603\n",
      "Epoches 5/20 Steps 400/938 loss: 1.63071\n",
      "Epoches 5/20 Steps 500/938 loss: 1.61316\n",
      "Epoches 5/20 Steps 600/938 loss: 1.55987\n",
      "Epoches 5/20 Steps 700/938 loss: 1.66165\n",
      "Epoches 5/20 Steps 800/938 loss: 1.64852\n",
      "Epoches 5/20 Steps 900/938 loss: 1.63500\n",
      "Epoches 6/20 Steps 100/938 loss: 1.58274\n",
      "Epoches 6/20 Steps 200/938 loss: 1.58093\n",
      "Epoches 6/20 Steps 300/938 loss: 1.60887\n",
      "Epoches 6/20 Steps 400/938 loss: 1.57792\n",
      "Epoches 6/20 Steps 500/938 loss: 1.60186\n",
      "Epoches 6/20 Steps 600/938 loss: 1.57730\n",
      "Epoches 6/20 Steps 700/938 loss: 1.61534\n",
      "Epoches 6/20 Steps 800/938 loss: 1.65581\n",
      "Epoches 6/20 Steps 900/938 loss: 1.63134\n",
      "Epoches 7/20 Steps 100/938 loss: 1.64896\n",
      "Epoches 7/20 Steps 200/938 loss: 1.61861\n",
      "Epoches 7/20 Steps 300/938 loss: 1.62685\n",
      "Epoches 7/20 Steps 400/938 loss: 1.58126\n",
      "Epoches 7/20 Steps 500/938 loss: 1.60712\n",
      "Epoches 7/20 Steps 600/938 loss: 1.63851\n",
      "Epoches 7/20 Steps 700/938 loss: 1.72416\n",
      "Epoches 7/20 Steps 800/938 loss: 1.60919\n",
      "Epoches 7/20 Steps 900/938 loss: 1.63615\n",
      "Epoches 8/20 Steps 100/938 loss: 1.56135\n",
      "Epoches 8/20 Steps 200/938 loss: 1.57328\n",
      "Epoches 8/20 Steps 300/938 loss: 1.63808\n",
      "Epoches 8/20 Steps 400/938 loss: 1.60775\n",
      "Epoches 8/20 Steps 500/938 loss: 1.62081\n",
      "Epoches 8/20 Steps 600/938 loss: 1.63429\n",
      "Epoches 8/20 Steps 700/938 loss: 1.58707\n",
      "Epoches 8/20 Steps 800/938 loss: 1.62901\n",
      "Epoches 8/20 Steps 900/938 loss: 1.64105\n",
      "Epoches 9/20 Steps 100/938 loss: 1.57207\n",
      "Epoches 9/20 Steps 200/938 loss: 1.59527\n",
      "Epoches 9/20 Steps 300/938 loss: 1.66521\n",
      "Epoches 9/20 Steps 400/938 loss: 1.59438\n",
      "Epoches 9/20 Steps 500/938 loss: 1.60233\n",
      "Epoches 9/20 Steps 600/938 loss: 1.67797\n",
      "Epoches 9/20 Steps 700/938 loss: 1.63529\n",
      "Epoches 9/20 Steps 800/938 loss: 1.62440\n",
      "Epoches 9/20 Steps 900/938 loss: 1.65772\n",
      "Epoches 10/20 Steps 100/938 loss: 1.59183\n",
      "Epoches 10/20 Steps 200/938 loss: 1.57165\n",
      "Epoches 10/20 Steps 300/938 loss: 1.59513\n",
      "Epoches 10/20 Steps 400/938 loss: 1.63931\n",
      "Epoches 10/20 Steps 500/938 loss: 1.57171\n",
      "Epoches 10/20 Steps 600/938 loss: 1.61592\n",
      "Epoches 10/20 Steps 700/938 loss: 1.60498\n",
      "Epoches 10/20 Steps 800/938 loss: 1.56522\n",
      "Epoches 10/20 Steps 900/938 loss: 1.56050\n",
      "Epoches 11/20 Steps 100/938 loss: 1.57540\n",
      "Epoches 11/20 Steps 200/938 loss: 1.63069\n",
      "Epoches 11/20 Steps 300/938 loss: 1.57645\n",
      "Epoches 11/20 Steps 400/938 loss: 1.56622\n",
      "Epoches 11/20 Steps 500/938 loss: 1.63236\n",
      "Epoches 11/20 Steps 600/938 loss: 1.65536\n",
      "Epoches 11/20 Steps 700/938 loss: 1.53595\n",
      "Epoches 11/20 Steps 800/938 loss: 1.60820\n",
      "Epoches 11/20 Steps 900/938 loss: 1.68956\n",
      "Epoches 12/20 Steps 100/938 loss: 1.67697\n",
      "Epoches 12/20 Steps 200/938 loss: 1.63038\n",
      "Epoches 12/20 Steps 300/938 loss: 1.63643\n",
      "Epoches 12/20 Steps 400/938 loss: 1.62834\n",
      "Epoches 12/20 Steps 500/938 loss: 1.63197\n",
      "Epoches 12/20 Steps 600/938 loss: 1.62745\n",
      "Epoches 12/20 Steps 700/938 loss: 1.61745\n",
      "Epoches 12/20 Steps 800/938 loss: 1.53114\n",
      "Epoches 12/20 Steps 900/938 loss: 1.54376\n",
      "Epoches 13/20 Steps 100/938 loss: 1.59765\n",
      "Epoches 13/20 Steps 200/938 loss: 1.58585\n",
      "Epoches 13/20 Steps 300/938 loss: 1.54849\n",
      "Epoches 13/20 Steps 400/938 loss: 1.53108\n",
      "Epoches 13/20 Steps 500/938 loss: 1.53743\n",
      "Epoches 13/20 Steps 600/938 loss: 1.58220\n",
      "Epoches 13/20 Steps 700/938 loss: 1.67308\n",
      "Epoches 13/20 Steps 800/938 loss: 1.63276\n",
      "Epoches 13/20 Steps 900/938 loss: 1.61873\n",
      "Epoches 14/20 Steps 100/938 loss: 1.62012\n",
      "Epoches 14/20 Steps 200/938 loss: 1.60068\n",
      "Epoches 14/20 Steps 300/938 loss: 1.56525\n",
      "Epoches 14/20 Steps 400/938 loss: 1.57277\n",
      "Epoches 14/20 Steps 500/938 loss: 1.62603\n",
      "Epoches 14/20 Steps 600/938 loss: 1.57399\n",
      "Epoches 14/20 Steps 700/938 loss: 1.57872\n",
      "Epoches 14/20 Steps 800/938 loss: 1.58580\n",
      "Epoches 14/20 Steps 900/938 loss: 1.54822\n",
      "Epoches 15/20 Steps 100/938 loss: 1.59071\n",
      "Epoches 15/20 Steps 200/938 loss: 1.56974\n",
      "Epoches 15/20 Steps 300/938 loss: 1.52829\n",
      "Epoches 15/20 Steps 400/938 loss: 1.49942\n",
      "Epoches 15/20 Steps 500/938 loss: 1.58354\n",
      "Epoches 15/20 Steps 600/938 loss: 1.57174\n",
      "Epoches 15/20 Steps 700/938 loss: 1.55008\n",
      "Epoches 15/20 Steps 800/938 loss: 1.53852\n",
      "Epoches 15/20 Steps 900/938 loss: 1.53108\n",
      "Epoches 16/20 Steps 100/938 loss: 1.56947\n",
      "Epoches 16/20 Steps 200/938 loss: 1.53834\n",
      "Epoches 16/20 Steps 300/938 loss: 1.49740\n",
      "Epoches 16/20 Steps 400/938 loss: 1.47141\n",
      "Epoches 16/20 Steps 500/938 loss: 1.50826\n",
      "Epoches 16/20 Steps 600/938 loss: 1.52467\n",
      "Epoches 16/20 Steps 700/938 loss: 1.48072\n",
      "Epoches 16/20 Steps 800/938 loss: 1.48583\n",
      "Epoches 16/20 Steps 900/938 loss: 1.51581\n",
      "Epoches 17/20 Steps 100/938 loss: 1.50293\n",
      "Epoches 17/20 Steps 200/938 loss: 1.50466\n",
      "Epoches 17/20 Steps 300/938 loss: 1.55331\n",
      "Epoches 17/20 Steps 400/938 loss: 1.49876\n",
      "Epoches 17/20 Steps 500/938 loss: 1.48589\n",
      "Epoches 17/20 Steps 600/938 loss: 1.50320\n",
      "Epoches 17/20 Steps 700/938 loss: 1.48954\n",
      "Epoches 17/20 Steps 800/938 loss: 1.49868\n",
      "Epoches 17/20 Steps 900/938 loss: 1.56159\n",
      "Epoches 18/20 Steps 100/938 loss: 1.49278\n",
      "Epoches 18/20 Steps 200/938 loss: 1.51280\n",
      "Epoches 18/20 Steps 300/938 loss: 1.51624\n",
      "Epoches 18/20 Steps 400/938 loss: 1.51788\n",
      "Epoches 18/20 Steps 500/938 loss: 1.50291\n",
      "Epoches 18/20 Steps 600/938 loss: 1.48706\n",
      "Epoches 18/20 Steps 700/938 loss: 1.46799\n",
      "Epoches 18/20 Steps 800/938 loss: 1.50881\n",
      "Epoches 18/20 Steps 900/938 loss: 1.52250\n",
      "Epoches 19/20 Steps 100/938 loss: 1.48714\n",
      "Epoches 19/20 Steps 200/938 loss: 1.51436\n",
      "Epoches 19/20 Steps 300/938 loss: 1.48192\n",
      "Epoches 19/20 Steps 400/938 loss: 1.53698\n",
      "Epoches 19/20 Steps 500/938 loss: 1.52841\n",
      "Epoches 19/20 Steps 600/938 loss: 1.50570\n",
      "Epoches 19/20 Steps 700/938 loss: 1.50519\n",
      "Epoches 19/20 Steps 800/938 loss: 1.54015\n",
      "Epoches 19/20 Steps 900/938 loss: 1.57290\n",
      "Epoches 20/20 Steps 100/938 loss: 1.51143\n",
      "Epoches 20/20 Steps 200/938 loss: 1.55017\n",
      "Epoches 20/20 Steps 300/938 loss: 1.51141\n",
      "Epoches 20/20 Steps 400/938 loss: 1.50286\n",
      "Epoches 20/20 Steps 500/938 loss: 1.54968\n",
      "Epoches 20/20 Steps 600/938 loss: 1.51222\n",
      "Epoches 20/20 Steps 700/938 loss: 1.50965\n",
      "Epoches 20/20 Steps 800/938 loss: 1.49329\n",
      "Epoches 20/20 Steps 900/938 loss: 1.52629\n"
     ]
    }
   ],
   "source": [
    "epoches = 20\n",
    "for epoch in range(epoches):\n",
    "  for i,(images,labels) in enumerate(train_loader):\n",
    "    \n",
    "    images = images.reshape(-1,784).to(\"cuda\")\n",
    "    labels = labels.to(\"cuda\")\n",
    "    \n",
    "    #forward pass and loss calculation\n",
    "    outputs = model(images)\n",
    "    loss = criterion(outputs,labels)\n",
    "    \n",
    "    #backward pass and gradient update\n",
    "    optimizer.zero_grad()\n",
    "    loss.backward()\n",
    "    optimizer.step()\n",
    "    \n",
    "    if( (i+1)%100 == 0):\n",
    "      print(\"Epoches {}/{} Steps {}/{} loss: {:.5f}\".format(epoch+1,epoches,i+1,\n",
    "                                                       total_step,loss.item()))"
   ]
  },
  {
   "cell_type": "code",
   "execution_count": 13,
   "metadata": {
    "colab": {
     "base_uri": "https://localhost:8080/",
     "height": 89
    },
    "colab_type": "code",
    "id": "PPSKoSk5Prme",
    "outputId": "91ef482d-e225-41ad-db41-6fe72c6e1c9c"
   },
   "outputs": [
    {
     "name": "stderr",
     "output_type": "stream",
     "text": [
      "/usr/local/lib/python3.6/dist-packages/ipykernel_launcher.py:16: UserWarning: Implicit dimension choice for softmax has been deprecated. Change the call to include dim=X as an argument.\n",
      "  app.launch_new_instance()\n"
     ]
    },
    {
     "name": "stdout",
     "output_type": "stream",
     "text": [
      "Accuracy : 0.9532\n"
     ]
    }
   ],
   "source": [
    "# Test our model\n",
    "# Dont require gradient computing , fast and efficent\n",
    "with torch.no_grad():\n",
    "  correct = 0\n",
    "  total = 0\n",
    "  \n",
    "  for images,labels in test_loader:\n",
    "    images = images.reshape(-1,784).to(\"cuda\")\n",
    "    labels = labels.to(\"cuda\")\n",
    "    \n",
    "    outputs = model(images)\n",
    "    _,predict = torch.max(outputs,1)\n",
    "    total += len(labels)\n",
    "    correct += (predict == labels).sum().item()\n",
    "  print(\"Accuracy :\",correct/total)\n",
    "    \n",
    "  \n",
    "  "
   ]
  },
  {
   "cell_type": "code",
   "execution_count": 14,
   "metadata": {
    "colab": {
     "base_uri": "https://localhost:8080/",
     "height": 34
    },
    "colab_type": "code",
    "id": "-1rpsioXPC-k",
    "outputId": "085a9bb4-ec93-4a27-b5b3-bb5502857a58"
   },
   "outputs": [
    {
     "data": {
      "text/plain": [
       "(tensor([3, 7]), tensor([1, 2]))"
      ]
     },
     "execution_count": 14,
     "metadata": {
      "tags": []
     },
     "output_type": "execute_result"
    }
   ],
   "source": [
    "# look at torch.max operation\n",
    "a = torch.tensor([[2,3,1],\n",
    "                  [5,2,7]])\n",
    "torch.max(a,1) #return value,index"
   ]
  },
  {
   "cell_type": "code",
   "execution_count": 15,
   "metadata": {
    "colab": {
     "base_uri": "https://localhost:8080/",
     "height": 34
    },
    "colab_type": "code",
    "id": "7h0JlDhZVwuY",
    "outputId": "36a60ade-31f4-405d-933e-6299b609c13b"
   },
   "outputs": [
    {
     "data": {
      "text/plain": [
       "2"
      ]
     },
     "execution_count": 15,
     "metadata": {
      "tags": []
     },
     "output_type": "execute_result"
    }
   ],
   "source": [
    "# Understand some code\n",
    "a = torch.tensor([1,3,5,6])\n",
    "b = torch.tensor([1,6,5,7])\n",
    "(a==b).sum().item()"
   ]
  },
  {
   "cell_type": "code",
   "execution_count": 0,
   "metadata": {
    "colab": {},
    "colab_type": "code",
    "id": "t4nrDYG2Y7yF"
   },
   "outputs": [],
   "source": [
    "#Save your model\n",
    "\n",
    "#torch.save(model.state_dict(), 'model.ckpt')"
   ]
  }
 ],
 "metadata": {
  "accelerator": "GPU",
  "colab": {
   "name": "pytorch architecture.ipynb",
   "provenance": [],
   "version": "0.3.2"
  },
  "kernelspec": {
   "display_name": "Python 3",
   "language": "python",
   "name": "python3"
  },
  "language_info": {
   "codemirror_mode": {
    "name": "ipython",
    "version": 3
   },
   "file_extension": ".py",
   "mimetype": "text/x-python",
   "name": "python",
   "nbconvert_exporter": "python",
   "pygments_lexer": "ipython3",
   "version": "3.6.6"
  }
 },
 "nbformat": 4,
 "nbformat_minor": 1
}
